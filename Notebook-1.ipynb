{
 "cells": [
  {
   "cell_type": "code",
   "execution_count": 45,
   "metadata": {},
   "outputs": [],
   "source": [
    "import warnings\n",
    "from collections import namedtuple\n",
    "from functools import partial\n",
    "from typing import Optional, Tuple, List, Callable, Any\n",
    "\n",
    "import torch\n",
    "import torch.nn as nn\n",
    "import torch.nn.functional as F\n",
    "from torch import Tensor\n",
    "\n",
    "import networkx as nx\n",
    "import numpy as np"
   ]
  },
  {
   "cell_type": "code",
   "execution_count": 4,
   "metadata": {},
   "outputs": [],
   "source": [
    "INPUT = 'input'\n",
    "OUTPUT = 'output'\n",
    "CONV3X3 = 'conv3x3-bn-relu'\n",
    "CONV1X1 = 'conv1x1-bn-relu'\n",
    "MAXPOOL3X3 = 'maxpool3x3'\n",
    "\n",
    "new_labels = [INPUT, CONV1X1, CONV3X3, CONV3X3, CONV3X3, MAXPOOL3X3, OUTPUT]\n",
    "\n",
    "matrix=np.array([[0, 1, 1, 1, 0, 1, 0],    # input layer\n",
    "          [0, 0, 0, 0, 0, 0, 1],    # 1x1 conv\n",
    "          [0, 0, 0, 0, 0, 0, 1],    # 3x3 conv\n",
    "          [0, 0, 0, 0, 1, 0, 0],    # 5x5 conv (replaced by two 3x3's)\n",
    "          [0, 0, 0, 0, 0, 0, 1],    # 5x5 conv (replaced by two 3x3's)\n",
    "          [0, 0, 0, 0, 0, 0, 1],    # 3x3 max-pool\n",
    "          [0, 0, 0, 0, 0, 0, 0]])"
   ]
  },
  {
   "cell_type": "code",
   "execution_count": 3,
   "metadata": {},
   "outputs": [],
   "source": [
    "class BasicConv2d(nn.Module):\n",
    "    def __init__(self, in_channels: int, out_channels: int, **kwargs: Any) -> None:\n",
    "        super().__init__()\n",
    "        self.conv = nn.Conv2d(in_channels, out_channels, bias=False, **kwargs)\n",
    "        self.bn = nn.BatchNorm2d(out_channels, eps=0.001)\n",
    "\n",
    "    def forward(self, x: Tensor) -> Tensor:\n",
    "        x = self.conv(x)\n",
    "        x = self.bn(x)\n",
    "        return F.relu(x, inplace=True)"
   ]
  },
  {
   "cell_type": "code",
   "execution_count": 17,
   "metadata": {},
   "outputs": [],
   "source": [
    "class Cell(nn.Module):\n",
    "    def __init__(self, in_channels, matrix):\n",
    "        super(Cell, self).__init__()\n",
    "        self.G = nx.from_numpy_matrix(matrix, create_using=nx.DiGraph)\n",
    "        for i in range(7):\n",
    "            self.G.nodes[i]['label'] = i\n",
    "            self.G.nodes[i]['op_label'] = new_labels[i]\n",
    "            self.G.nodes[i]['incoming'] = [n for n in self.G.reverse().neighbors(i)]\n",
    "            self.G.nodes[i]['outgoing'] = [n for n in self.G.neighbors(i)]\n",
    "        proj_depth = int(in_channels/len(self.G.nodes[6]['incoming']))\n",
    "        self.layers = nn.ModuleList()\n",
    "        for n in range(7):\n",
    "            node = self.G.nodes[n]\n",
    "            modules = []\n",
    "            op_label = node['op_label']\n",
    "            if 0 in node['incoming']:\n",
    "                modules.append(BasicConv2d(in_channels, proj_depth, kernel_size=1))\n",
    "            if op_label == CONV1X1 and len(modules) == 0:\n",
    "                modules.append(BasicConv2d(proj_depth, proj_depth, kernel_size=1))\n",
    "            elif op_label == CONV3X3:\n",
    "                modules.append(BasicConv2d(proj_depth, proj_depth, kernel_size=3, padding=1))\n",
    "            elif op_label == MAXPOOL3X3:\n",
    "                modules.append(nn.MaxPool2d(kernel_size=3, stride=1, padding=1, ceil_mode=True))\n",
    "            if len(modules):\n",
    "                self.layers.append(nn.Sequential(*modules))\n",
    "\n",
    "    def forward(self, x):\n",
    "        self.G.nodes[0]['output'] = x\n",
    "        for n in range(1,6):\n",
    "            input = 0\n",
    "            for neighbor in self.G.nodes[n]['incoming']:\n",
    "                input += self.G.nodes[neighbor]['output']\n",
    "            self.G.nodes[n]['output'] = self.layers[n-1](input)\n",
    "        outputs = torch.cat([self.G.nodes[n]['output'] for n in self.G.nodes[6]['incoming']], 1)\n",
    "        return outputs"
   ]
  },
  {
   "cell_type": "code",
   "execution_count": 21,
   "metadata": {},
   "outputs": [],
   "source": [
    "class CustomPool(nn.Module):\n",
    "    def __init__(self, in_channels):\n",
    "        super(CustomPool, self).__init__()\n",
    "        self.pool = nn.MaxPool2d(2)\n",
    "        self.conv1x1 = BasicConv2d(in_channels, 2*in_channels, kernel_size=1)\n",
    "\n",
    "    def forward(self, x):\n",
    "        x = self.pool(x)\n",
    "        x = self.conv1x1(x)\n",
    "        return x"
   ]
  },
  {
   "cell_type": "code",
   "execution_count": 42,
   "metadata": {},
   "outputs": [],
   "source": [
    "class CNN(nn.Module):\n",
    "    def __init__(self, matrix):\n",
    "        super(CNN, self).__init__()\n",
    "        self.convstem = BasicConv2d(3, 128, kernel_size=3, padding=1) # 32x32\n",
    "        \n",
    "        self.stack1 = nn.ModuleList()\n",
    "        for _ in range(3):\n",
    "            self.stack1.append(Cell(128, matrix))\n",
    "        self.stack1.append(CustomPool(128)) # 16x16\n",
    "\n",
    "        self.stack2 = nn.ModuleList()\n",
    "        for _ in range(3):\n",
    "            self.stack2.append(Cell(256, matrix))\n",
    "        self.stack2.append(CustomPool(256)) # 8X8\n",
    "\n",
    "        self.stack3 = nn.ModuleList()\n",
    "        for _ in range(3):\n",
    "            self.stack3.append(Cell(512, matrix))\n",
    "        self.global_pool = nn.MaxPool2d(8)\n",
    "\n",
    "        self.fc1 = nn.Linear(512, 512)\n",
    "        self.fc2 = nn.Linear(512, 10)\n",
    "\n",
    "    def forward(self,x):\n",
    "        x = self.convstem(x)\n",
    "        for i in range(4):\n",
    "            x = self.stack1[i](x)\n",
    "        for i in range(4):\n",
    "            x = self.stack2[i](x)\n",
    "        for i in range(3):\n",
    "            x = self.stack3[i](x)\n",
    "        x = self.global_pool(x).flatten(start_dim=1)\n",
    "        x = self.fc1(x)\n",
    "        x = F.relu(x)\n",
    "        x = self.fc2(x)\n",
    "        return x"
   ]
  },
  {
   "cell_type": "code",
   "execution_count": 43,
   "metadata": {},
   "outputs": [],
   "source": [
    "network = CNN(matrix)"
   ]
  }
 ],
 "metadata": {
  "kernelspec": {
   "display_name": "Python 3.8.10 64-bit (windows store)",
   "language": "python",
   "name": "python3"
  },
  "language_info": {
   "codemirror_mode": {
    "name": "ipython",
    "version": 3
   },
   "file_extension": ".py",
   "mimetype": "text/x-python",
   "name": "python",
   "nbconvert_exporter": "python",
   "pygments_lexer": "ipython3",
   "version": "3.8.10"
  },
  "orig_nbformat": 4,
  "vscode": {
   "interpreter": {
    "hash": "1623887a4657fbc55005e133332f3be3f5efee82a88b4990fa1707cdaeddf772"
   }
  }
 },
 "nbformat": 4,
 "nbformat_minor": 2
}
